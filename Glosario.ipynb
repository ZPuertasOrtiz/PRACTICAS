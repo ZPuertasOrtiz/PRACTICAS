{
 "cells": [
  {
   "attachments": {},
   "cell_type": "markdown",
   "metadata": {},
   "source": [
    "# Glosario JavaScript\n",
    "\n",
    "**1. Objetos:** Colección de datos y/o funcionalidad. \n",
    "\n",
    "\n",
    "3. **Propiedades:** Variables (elementos de datos) cuando están dentro de un objeto.\n",
    "4. **Métodos:** Funciones cuando están dentro de un objeto, estas permiten al objeto hacer algo con las propiedades.\n",
    "5. **Objetos literales:** Objeto definido manualmente.\n",
    "6. **Objetos instanciados:**\n",
    "7. **Dot notation:** Permite acceder a cualquier elemento encapsulado dentro del objeto. "
   ]
  },
  {
   "cell_type": "code",
   "execution_count": null,
   "metadata": {
    "vscode": {
     "languageId": "javascript"
    }
   },
   "outputs": [],
   "source": [
    "var persona = {\n",
    "    nombre: [\"Zule\",\"Fulanita\"],\n",
    "    edad: 115,\n",
    "    Saludo: function(){\n",
    "        console.log (\"Hola,soy\"+ this.nombre[0]+\".\")\n",
    "    }\n",
    "};"
   ]
  },
  {
   "attachments": {},
   "cell_type": "markdown",
   "metadata": {},
   "source": [
    "**2. Atributos:** Conjunto conformado por propiedades y métodos.  \n",
    "**3. Propiedades:** Variables (elementos de datos) cuando están dentro de un objeto. En  "
   ]
  }
 ],
 "metadata": {
  "language_info": {
   "name": "python"
  },
  "orig_nbformat": 4
 },
 "nbformat": 4,
 "nbformat_minor": 2
}
