{
 "cells": [
  {
   "attachments": {},
   "cell_type": "markdown",
   "metadata": {},
   "source": [
    "# Glosario JavaScript\n",
    "\n",
    "**1. Objetos:** Colección de datos y/o funcionalidad. "
   ]
  },
  {
   "cell_type": "code",
   "execution_count": null,
   "metadata": {
    "vscode": {
     "languageId": "javascript"
    }
   },
   "outputs": [],
   "source": [
    "let person = {\n",
    "    name: [\"Zule\",\"Fulanita\"],\n",
    "    age: 115,\n",
    "    greeting: function(){\n",
    "        console.log (\"Hola,soy\"+ this.nombre[0]+\".\")\n",
    "    }\n",
    "};"
   ]
  },
  {
   "attachments": {},
   "cell_type": "markdown",
   "metadata": {},
   "source": [
    "**2. Atributos:** Conjunto conformado por propiedades y métodos.  \n",
    "**3. Propiedades:** Variables (elementos de datos) cuando están dentro de un objeto.  \n",
    "**4. Métodos:** Funciones cuando están dentro de un objeto, estas permiten al objeto hacer algo con las propiedades. "
   ]
  },
  {
   "cell_type": "code",
   "execution_count": null,
   "metadata": {
    "vscode": {
     "languageId": "javascript"
    }
   },
   "outputs": [],
   "source": [
    "let person = {\n",
    "    name: [\"Zule\",\"Fulanita\"], //---> propiedad\n",
    "    age: 115, //---> propiedad\n",
    "    greeting: function(){ //---> método\n",
    "        console.log (\"Hola,soy\"+\" \"+ this.name[0]+\".\")\n",
    "    }\n",
    "};\n"
   ]
  },
  {
   "attachments": {},
   "cell_type": "markdown",
   "metadata": {},
   "source": [
    "**5. Objetos literales:** Objeto definido manualmente.  \n",
    "**6. Objetos instanciados:**  \n",
    "**7. Dot notation:** Permite acceder a cualquier elemento encapsulado dentro del objeto. También se puede actualizar atributos en el objeto. "
   ]
  },
  {
   "cell_type": "code",
   "execution_count": null,
   "metadata": {
    "vscode": {
     "languageId": "javascript"
    }
   },
   "outputs": [],
   "source": [
    "person.age // 115\n",
    "person.greeting() //Accediendo a mmétodos: Hola,soy Zule.\n",
    "\n",
    "//Para actualizar valores:\n",
    "\n",
    "person.age = 40;"
   ]
  },
  {
   "attachments": {},
   "cell_type": "markdown",
   "metadata": {},
   "source": [
    "**8. Bracket notation:** alternativa al dot notation. Tiene la misma funcionalidad, sin embargo, permite establecer o acceder dinámicamente a las propiedades de un objeto usando variables. "
   ]
  },
  {
   "cell_type": "code",
   "execution_count": null,
   "metadata": {
    "vscode": {
     "languageId": "javascript"
    }
   },
   "outputs": [],
   "source": [
    "// Para acceder a propiedad\n",
    "person[greeting]() //Hola, soy zule.\n",
    "\n",
    "// Acceder a las propiedades usando variables\n",
    "\n",
    "const newName = 'name';\n",
    "person[newName][0] //\"Zule\""
   ]
  },
  {
   "attachments": {},
   "cell_type": "markdown",
   "metadata": {},
   "source": [
    "**9. \"this\":** Palabra clave que se refiere al objeto actual en el que se está escribiendo el código. \n",
    "**10. Prototipos:** mecanismo mediante el cual los objetos en JS heredan características entre sí. El objeto prototipo actúa como objeto plantilla que hereda métodos y propiedades."
   ]
  }
 ],
 "metadata": {
  "kernelspec": {
   "display_name": "Python 3",
   "language": "python",
   "name": "python3"
  },
  "language_info": {
   "codemirror_mode": {
    "name": "ipython",
    "version": 3
   },
   "file_extension": ".py",
   "mimetype": "text/x-python",
   "name": "python",
   "nbconvert_exporter": "python",
   "pygments_lexer": "ipython3",
   "version": "3.11.4"
  },
  "orig_nbformat": 4
 },
 "nbformat": 4,
 "nbformat_minor": 2
}
